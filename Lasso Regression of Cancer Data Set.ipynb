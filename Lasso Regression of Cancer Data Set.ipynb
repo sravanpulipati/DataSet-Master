{
 "cells": [
  {
   "cell_type": "code",
   "execution_count": null,
   "metadata": {},
   "outputs": [],
   "source": [
    "#importing the Libraries\n",
    "\n",
    "import math\n",
    "import numpy as np\n",
    "import pandas as pd\n",
    "import matplotlib.pyplot as plt\n"
   ]
  },
  {
   "cell_type": "code",
   "execution_count": null,
   "metadata": {},
   "outputs": [],
   "source": [
    "# difference of lasso and ridge regression is that some of the coefficients can be zero i.e. some of the features are \n",
    "# completely neglected\n",
    "\n",
    "from sklearn.datasets import load_breast_cancer\n",
    "from sklearn.linear_model import Lasso\n",
    "from sklearn.linear_model import LinearRegression\n",
    "from sklearn.model_selection import train_test_split\n"
   ]
  },
  {
   "cell_type": "code",
   "execution_count": null,
   "metadata": {},
   "outputs": [],
   "source": [
    "cancer = load_breast_cancer()\n",
    "cancer\n"
   ]
  },
  {
   "cell_type": "code",
   "execution_count": null,
   "metadata": {},
   "outputs": [],
   "source": [
    "#print (cancer.keys())\n",
    "cancer_df=pd.DataFrame(cancer.data,columns =cancer.feature_names)\n",
    "cancer_df\n",
    "print(cancer_df.head(3))\n",
    "x=cancer.data\n",
    "x\n",
    "y=cancer.target\n",
    "y"
   ]
  },
  {
   "cell_type": "code",
   "execution_count": null,
   "metadata": {},
   "outputs": [],
   "source": [
    "x_train,x_test,y_train,y_test =train_test_split(x,y,test_size = 0.3,random_state = 31)"
   ]
  },
  {
   "cell_type": "code",
   "execution_count": null,
   "metadata": {},
   "outputs": [],
   "source": [
    "lasso = Lasso()\n",
    "lasso.fit(x_train,y_train)\n",
    "train_score=lasso.score(x_train,y_train)\n",
    "test_score=lasso.score(x_test,y_test)\n",
    "coeff_used=np.sum(lasso.coef_!=0)\n"
   ]
  },
  {
   "cell_type": "code",
   "execution_count": null,
   "metadata": {},
   "outputs": [],
   "source": [
    "print(\"training score :\",train_score)\n",
    "print(\"testing score :\",test_score)\n",
    "print(\"Number of features used :\",coeff_used)\n"
   ]
  },
  {
   "cell_type": "code",
   "execution_count": null,
   "metadata": {},
   "outputs": [],
   "source": [
    "lasso001 = Lasso(alpha = 0.01, max_iter= 10e5)\n",
    "lasso001.fit(x_train,y_train)\n",
    "train_score001=lasso001.score(x_train,y_train)\n",
    "test_score001=lasso001.score(x_test,y_test)\n",
    "coeff_used001=np.sum(lasso001.coef_!=0)"
   ]
  },
  {
   "cell_type": "code",
   "execution_count": null,
   "metadata": {},
   "outputs": [],
   "source": [
    "print(\"training score for alpha = 0.01 :\",train_score001)\n",
    "print(\"testing score for alpha = 0.01 :\",test_score001)\n",
    "print(\"Number of features used for alpha = 0.01:\",coeff_used001)"
   ]
  },
  {
   "cell_type": "code",
   "execution_count": null,
   "metadata": {},
   "outputs": [],
   "source": [
    "lasso00001 = Lasso(alpha = 0.0001, max_iter= 10e5)\n",
    "lasso00001.fit(x_train,y_train)\n",
    "train_score00001=lasso00001.score(x_train,y_train)\n",
    "test_score00001=lasso00001.score(x_test,y_test)\n",
    "coeff_used00001=np.sum(lasso00001.coef_!=0)"
   ]
  },
  {
   "cell_type": "code",
   "execution_count": null,
   "metadata": {},
   "outputs": [],
   "source": [
    "print(\"training score for alpha = 0.00001 :\",train_score00001)\n",
    "print(\"testing score for alpha = 0.00001 :\",test_score00001)\n",
    "print(\"Number of features used for alpha = 0.00001:\",coeff_used00001)"
   ]
  },
  {
   "cell_type": "code",
   "execution_count": null,
   "metadata": {},
   "outputs": [],
   "source": [
    "lr = LinearRegression()\n",
    "lr.fit(x_train,y_train)\n",
    "lr_train_score =lr.score(x_train,y_train)\n",
    "lr_test_score=lr.score(x_test,y_test)"
   ]
  },
  {
   "cell_type": "code",
   "execution_count": null,
   "metadata": {},
   "outputs": [],
   "source": [
    "print(\"LR training score :\", lr_train_score)\n",
    "print(\"LR testing score :\", lr_test_score)"
   ]
  },
  {
   "cell_type": "code",
   "execution_count": null,
   "metadata": {},
   "outputs": [],
   "source": [
    "plt.subplot(1,2,1)\n",
    "plt.plot(lasso.coef_,alpha = 0.7,linestyle='none',marker='*',markersize = 5,color='Red',label=r'Lasso; $\\alpha = 1$', zorder =7)\n",
    "# alpha here is for transparency\n",
    "plt.plot(lasso001.coef_,alpha=0.5,linestyle='none',marker='d',markersize=6,color='Blue',label=r'Lasso; $\\alpha = 0.01$') \n",
    "# alpha here is for transparency\n",
    "plt.plot(lasso00001.coef_,alpha=0.8,linestyle='none',marker='o',markersize=10,color='Green',label=r'Lasso; $\\alpha = 0.0001$')\n",
    "# alpha here is for transparency"
   ]
  },
  {
   "cell_type": "code",
   "execution_count": null,
   "metadata": {},
   "outputs": [],
   "source": [
    "plt.xlabel(\"Coefficent Index \", fontsize = 16)\n",
    "plt.ylabel(\"Coefficent Magnitude\", fontsize = 16)\n",
    "plt.legend(fontsize = 13,loc = 'best')\n",
    "plt.subplot(1,2,2) "
   ]
  },
  {
   "cell_type": "code",
   "execution_count": null,
   "metadata": {},
   "outputs": [],
   "source": [
    "plt.plot(lasso.coef_,alpha = 0.7,linestyle= 'none',marker='*',markersize = 5,color='Red',label=r'Lasso; $\\alpha = 1$', zorder =7)\n",
    "# alpha here is for transparency\n",
    "plt.plot(lasso001.coef_,alpha=0.5,linestyle='none',marker='d',markersize = 6,color='Blue',label=r'Lasso; $\\alpha = 0.01$')\n",
    "# alpha here is for transparency\n",
    "plt.plot(lasso00001.coef_,alpha=0.8,linestyle='none',marker='v',markersize = 6,color='Black',label=r'Lasso; $\\alpha = 0.00001$')\n",
    "# alpha here is for transparency\n",
    "plt.plot(lr.coef_,alpha=0.7,linestyle= 'none',marker='o',markersize = 5,color='Green',label=r'LinearReression',zorder = 2)\n",
    "# alpha here is for transparency\n"
   ]
  },
  {
   "cell_type": "code",
   "execution_count": null,
   "metadata": {},
   "outputs": [],
   "source": [
    "plt.xlabel(\"Coefficent Index \", fontsize = 16)\n",
    "plt.ylabel(\"Coefficent Magnitude\", fontsize = 16)\n",
    "plt.legend(fontsize = 13,loc = 'best')\n",
    "plt.tight_layout()\n",
    "plt.show()\n"
   ]
  },
  {
   "cell_type": "code",
   "execution_count": null,
   "metadata": {
    "scrolled": true
   },
   "outputs": [],
   "source": [
    "plt.subplot(1,2,1)\n",
    "plt.plot(lasso.coef_,alpha = 0.7,linestyle='none',marker='*',markersize = 5,color='Red',label=r'Lasso; $\\alpha = 1$', zorder =7)\n",
    "# alpha here is for transparency\n",
    "plt.plot(lasso001.coef_,alpha=0.5,linestyle='none',marker='d',markersize=6,color='Blue',label=r'Lasso; $\\alpha = 0.01$') \n",
    "# alpha here is for transparency\n",
    "plt.plot(lasso00001.coef_,alpha=0.8,linestyle='none',marker='o',markersize=10,color='Green',label=r'Lasso; $\\alpha = 0.0001$')\n",
    "# alpha here is for transparency\n",
    "\n",
    "plt.xlabel(\"Coefficent Index \", fontsize = 16)\n",
    "plt.ylabel(\"Coefficent Magnitude\", fontsize = 16)\n",
    "plt.legend(fontsize = 13,loc = 'best')\n",
    "plt.subplot(1,2,2) \n"
   ]
  },
  {
   "cell_type": "code",
   "execution_count": null,
   "metadata": {},
   "outputs": [],
   "source": [
    "plt.plot(lasso.coef_,alpha = 0.7,linestyle= 'none',marker='*',markersize = 5,color='Red',label=r'Lasso; $\\alpha = 1$', zorder =7)\n",
    "# alpha here is for transparency\n",
    "plt.plot(lasso001.coef_,alpha=0.5,linestyle='none',marker='d',markersize = 6,color='Blue',label=r'Lasso; $\\alpha = 0.01$')\n",
    "# alpha here is for transparency\n",
    "plt.plot(lasso00001.coef_,alpha=0.8,linestyle='none',marker='v',markersize = 6,color='Black',label=r'Lasso; $\\alpha = 0.00001$')\n",
    "# alpha here is for transparency\n",
    "plt.plot(lr.coef_,alpha=0.7,linestyle= 'none',marker='o',markersize = 5,color='Green',label=r'LinearReression',zorder = 2)\n",
    "# alpha here is for transparency\n",
    "\n",
    "plt.xlabel(\"Coefficent Index \", fontsize = 16)\n",
    "plt.ylabel(\"Coefficent Magnitude\", fontsize = 16)\n",
    "plt.legend(fontsize = 13,loc = 'best')\n",
    "plt.tight_layout()\n",
    "plt.show()\n"
   ]
  },
  {
   "cell_type": "code",
   "execution_count": null,
   "metadata": {},
   "outputs": [],
   "source": [
    "#The default value of regularization parameter in Lasso regression (given by alpha) is 1.\n",
    "\n",
    "#With this, out of 30 features in cancer data-set, only 4 features are used (non zero value of the coefficient).\n",
    "\n",
    "#Both training and test score (with only 4 features) are low; conclude that the model is under-fitting the cancer data-set.\n",
    "\n",
    "#Reduce this under-fitting by reducing alpha and increasing number of iterations. Now alpha = 0.01, non-zero features =10, \n",
    "#training and test score increases.\n",
    "\n",
    "#Comparison of coefficient magnitude for two different values of alpha are shown in the left panel of figure 2. For alpha =1, \n",
    "#we can see most of the coefficients are zero or nearly zero, which is not the case for alpha=0.01.\n",
    "\n",
    "#Further reduce alpha =0.0001, non-zero features = 22. Training and test scores are similar to basic linear regression case.\n",
    "\n",
    "#In the right panel of figure, for alpha = 0.0001, coefficients for Lasso regression and linear regression show close resemblance.\n"
   ]
  }
 ],
 "metadata": {
  "kernelspec": {
   "display_name": "Python 3",
   "language": "python",
   "name": "python3"
  },
  "language_info": {
   "codemirror_mode": {
    "name": "ipython",
    "version": 3
   },
   "file_extension": ".py",
   "mimetype": "text/x-python",
   "name": "python",
   "nbconvert_exporter": "python",
   "pygments_lexer": "ipython3",
   "version": "3.7.3"
  }
 },
 "nbformat": 4,
 "nbformat_minor": 4
}
